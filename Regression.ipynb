{
  "nbformat": 4,
  "nbformat_minor": 0,
  "metadata": {
    "colab": {
      "name": "Regression.ipynb",
      "provenance": [],
      "authorship_tag": "ABX9TyNvrK+ZkKNo8ZH/LCl1z5OI",
      "include_colab_link": true
    },
    "kernelspec": {
      "name": "python3",
      "display_name": "Python 3"
    }
  },
  "cells": [
    {
      "cell_type": "markdown",
      "metadata": {
        "id": "view-in-github",
        "colab_type": "text"
      },
      "source": [
        "<a href=\"https://colab.research.google.com/github/sbs87/colab/blob/master/Regression.ipynb\" target=\"_parent\"><img src=\"https://colab.research.google.com/assets/colab-badge.svg\" alt=\"Open In Colab\"/></a>"
      ]
    },
    {
      "cell_type": "markdown",
      "metadata": {
        "id": "NebVLnA7A5YM"
      },
      "source": [
        "# Linear regression\n",
        "## Install TF 2.0"
      ]
    },
    {
      "cell_type": "code",
      "metadata": {
        "colab": {
          "base_uri": "https://localhost:8080/"
        },
        "id": "U5F1W1rOzR9-",
        "outputId": "fd57c766-aee3-409b-e969-12b5c7abd761"
      },
      "source": [
        "!pip install -q tensorflow==2.0.0-beta"
      ],
      "execution_count": 1,
      "outputs": [
        {
          "output_type": "stream",
          "text": [
            "\u001b[K     |████████████████████████████████| 87.9MB 66kB/s \n",
            "\u001b[K     |████████████████████████████████| 3.1MB 47.1MB/s \n",
            "\u001b[K     |████████████████████████████████| 501kB 41.4MB/s \n",
            "\u001b[K     |████████████████████████████████| 51kB 6.1MB/s \n",
            "\u001b[?25h"
          ],
          "name": "stdout"
        }
      ]
    },
    {
      "cell_type": "markdown",
      "metadata": {
        "id": "mkRCN8U5BC8j"
      },
      "source": [
        "## Import packages"
      ]
    },
    {
      "cell_type": "code",
      "metadata": {
        "colab": {
          "base_uri": "https://localhost:8080/"
        },
        "id": "pECWjqF0ziXI",
        "outputId": "2ed1456d-f73a-4603-9e34-2c17562096ea"
      },
      "source": [
        "import tensorflow as tf\n",
        "print(tf.__version__)"
      ],
      "execution_count": 3,
      "outputs": [
        {
          "output_type": "stream",
          "text": [
            "2.0.0-beta0\n"
          ],
          "name": "stdout"
        }
      ]
    },
    {
      "cell_type": "code",
      "metadata": {
        "id": "7DL6AgJlzrS4"
      },
      "source": [
        "import pandas as pd\n",
        "import numpy as np\n",
        "import matplotlib.pyplot as plt\n"
      ],
      "execution_count": 5,
      "outputs": []
    },
    {
      "cell_type": "markdown",
      "metadata": {
        "id": "1EqI1hjVBJ1v"
      },
      "source": [
        "## Get & Load data"
      ]
    },
    {
      "cell_type": "code",
      "metadata": {
        "colab": {
          "base_uri": "https://localhost:8080/"
        },
        "id": "pceFdFE60Tgp",
        "outputId": "67b47d18-067f-4db0-e017-ddbfc6eee569"
      },
      "source": [
        "!wget https://raw.githubusercontent.com/lazyprogrammer/machine_learning_examples/master/tf2.0/moore.csv"
      ],
      "execution_count": 6,
      "outputs": [
        {
          "output_type": "stream",
          "text": [
            "--2020-11-25 19:11:48--  https://raw.githubusercontent.com/lazyprogrammer/machine_learning_examples/master/tf2.0/moore.csv\n",
            "Resolving raw.githubusercontent.com (raw.githubusercontent.com)... 151.101.0.133, 151.101.64.133, 151.101.128.133, ...\n",
            "Connecting to raw.githubusercontent.com (raw.githubusercontent.com)|151.101.0.133|:443... connected.\n",
            "HTTP request sent, awaiting response... 200 OK\n",
            "Length: 2302 (2.2K) [text/plain]\n",
            "Saving to: ‘moore.csv’\n",
            "\n",
            "\rmoore.csv             0%[                    ]       0  --.-KB/s               \rmoore.csv           100%[===================>]   2.25K  --.-KB/s    in 0s      \n",
            "\n",
            "2020-11-25 19:11:48 (31.6 MB/s) - ‘moore.csv’ saved [2302/2302]\n",
            "\n"
          ],
          "name": "stdout"
        }
      ]
    },
    {
      "cell_type": "code",
      "metadata": {
        "colab": {
          "base_uri": "https://localhost:8080/"
        },
        "id": "hjX_u0hP0bjr",
        "outputId": "ec1cb005-e80f-4330-ceb8-a6bd8172cfe2"
      },
      "source": [
        "!ls\n",
        "!head moore.csv"
      ],
      "execution_count": 16,
      "outputs": [
        {
          "output_type": "stream",
          "text": [
            "moore.csv  sample_data\n",
            "1971,2300\n",
            "1972,3500\n",
            "1973,2500\n",
            "1973,2500\n",
            "1974,4100\n",
            "1974,4500\n",
            "1974,8000\n",
            "1975,3510\n",
            "1976,5000\n",
            "1976,8500\n"
          ],
          "name": "stdout"
        }
      ]
    },
    {
      "cell_type": "code",
      "metadata": {
        "id": "SDUkeAE9BSQ_"
      },
      "source": [
        "data = pd.read_csv(\"moore.csv\",header=None).values\n",
        "data"
      ],
      "execution_count": null,
      "outputs": []
    },
    {
      "cell_type": "markdown",
      "metadata": {
        "id": "UpIlXAblBW_Y"
      },
      "source": [
        "## Format & transform data\n",
        "\n",
        "*   convert to log scale\n",
        "*   x-center\n",
        "\n"
      ]
    },
    {
      "cell_type": "code",
      "metadata": {
        "colab": {
          "base_uri": "https://localhost:8080/",
          "height": 293
        },
        "id": "REce-eqp3X2E",
        "outputId": "b8c1cc49-a798-4cf5-85ed-6ef48cdc731c"
      },
      "source": [
        "x_data=data[:,0].reshape(-1,1)\n",
        "y_data=data[:,1]\n",
        "plt.scatter(x_data,y_data)"
      ],
      "execution_count": 32,
      "outputs": [
        {
          "output_type": "execute_result",
          "data": {
            "text/plain": [
              "<matplotlib.collections.PathCollection at 0x7f3ae9a8a978>"
            ]
          },
          "metadata": {
            "tags": []
          },
          "execution_count": 32
        },
        {
          "output_type": "display_data",
          "data": {
            "image/png": "[encoded data removed]",
            "text/plain": [
              "<Figure size 432x288 with 1 Axes>"
            ]
          },
          "metadata": {
            "tags": [],
            "needs_background": "light"
          }
        }
      ]
    },
    {
      "cell_type": "code",
      "metadata": {
        "colab": {
          "base_uri": "https://localhost:8080/",
          "height": 282
        },
        "id": "-h95sbx95Rgm",
        "outputId": "5b2c3d3d-1744-4e74-fc17-98b2891d2a2e"
      },
      "source": [
        "y_data_log=np.log(y_data)\n",
        "plt.scatter(x_data,y_data_log)"
      ],
      "execution_count": 35,
      "outputs": [
        {
          "output_type": "execute_result",
          "data": {
            "text/plain": [
              "<matplotlib.collections.PathCollection at 0x7f3ae8fcfd30>"
            ]
          },
          "metadata": {
            "tags": []
          },
          "execution_count": 35
        },
        {
          "output_type": "display_data",
          "data": {
            "image/png": "[encoded data removed]",
            "text/plain": [
              "<Figure size 432x288 with 1 Axes>"
            ]
          },
          "metadata": {
            "tags": [],
            "needs_background": "light"
          }
        }
      ]
    },
    {
      "cell_type": "code",
      "metadata": {
        "colab": {
          "base_uri": "https://localhost:8080/",
          "height": 282
        },
        "id": "fMaQuBYH5v6b",
        "outputId": "dc686027-67de-40ee-f634-1246f51153aa"
      },
      "source": [
        "x=x_data-x_data.mean()\n",
        "y=y_data_log\n",
        "plt.scatter(x,y)"
      ],
      "execution_count": 46,
      "outputs": [
        {
          "output_type": "execute_result",
          "data": {
            "text/plain": [
              "<matplotlib.collections.PathCollection at 0x7f3ae8d89b70>"
            ]
          },
          "metadata": {
            "tags": []
          },
          "execution_count": 46
        },
        {
          "output_type": "display_data",
          "data": {
            "image/png": "[encoded data removed]",
            "text/plain": [
              "<Figure size 432x288 with 1 Axes>"
            ]
          },
          "metadata": {
            "tags": [],
            "needs_background": "light"
          }
        }
      ]
    },
    {
      "cell_type": "markdown",
      "metadata": {
        "id": "7Vl-xCq5BldS"
      },
      "source": [
        "## Build and compile model"
      ]
    },
    {
      "cell_type": "code",
      "metadata": {
        "id": "bWXCAnfk6S7B"
      },
      "source": [
        "model=tf.keras.Sequential([tf.keras.layers.Input(shape=(1,)),\n",
        "                     tf.keras.layers.Dense(1)])\n",
        "\n",
        "model.compile(optimizer=tf.keras.optimizers.SGD(0.001,0.9),loss='mse')\n",
        "\n",
        "## What happens at different learning rates?"
      ],
      "execution_count": 48,
      "outputs": []
    },
    {
      "cell_type": "code",
      "metadata": {
        "colab": {
          "base_uri": "https://localhost:8080/"
        },
        "id": "Uwe2b5wD7I5l",
        "outputId": "a0c14dc0-c92d-4ad0-e05e-e1f317f4d93a"
      },
      "source": [
        "def schedule(epoch,lr):\n",
        "  if epoch<50:\n",
        "    return 0.0001\n",
        "  return 0.001\n",
        "\n",
        "schedule(100,2)\n",
        "\n",
        "scheduler=tf.keras.callbacks.LearningRateScheduler(schedule)\n",
        "scheduler"
      ],
      "execution_count": 55,
      "outputs": [
        {
          "output_type": "execute_result",
          "data": {
            "text/plain": [
              "<tensorflow.python.keras.callbacks.LearningRateScheduler at 0x7f3ae84fc4a8>"
            ]
          },
          "metadata": {
            "tags": []
          },
          "execution_count": 55
        }
      ]
    },
    {
      "cell_type": "markdown",
      "metadata": {
        "id": "PkAsLp3TBuiD"
      },
      "source": [
        "## Fit model, evaluate"
      ]
    },
    {
      "cell_type": "code",
      "metadata": {
        "colab": {
          "base_uri": "https://localhost:8080/"
        },
        "id": "oaXAdkvp70st",
        "outputId": "82dbca1b-5d04-4863-b9e4-0cfc6607e26b"
      },
      "source": [
        "r=model.fit(x,y,epochs=200,callbacks=[scheduler])"
      ],
      "execution_count": 58,
      "outputs": [
        {
          "output_type": "stream",
          "text": [
            "Train on 162 samples\n",
            "Epoch 1/200\n",
            "162/162 [==============================] - 0s 471us/sample - loss: 500.4601\n",
            "Epoch 2/200\n",
            "162/162 [==============================] - 0s 74us/sample - loss: 330.6059\n",
            "Epoch 3/200\n",
            "162/162 [==============================] - 0s 78us/sample - loss: 333.8697\n",
            "Epoch 4/200\n",
            "162/162 [==============================] - 0s 74us/sample - loss: 317.7044\n",
            "Epoch 5/200\n",
            "162/162 [==============================] - 0s 77us/sample - loss: 294.6202\n",
            "Epoch 6/200\n",
            "162/162 [==============================] - 0s 99us/sample - loss: 288.7101\n",
            "Epoch 7/200\n",
            "162/162 [==============================] - 0s 78us/sample - loss: 280.4622\n",
            "Epoch 8/200\n",
            "162/162 [==============================] - 0s 88us/sample - loss: 276.1654\n",
            "Epoch 9/200\n",
            "162/162 [==============================] - 0s 94us/sample - loss: 270.6713\n",
            "Epoch 10/200\n",
            "162/162 [==============================] - 0s 93us/sample - loss: 263.3634\n",
            "Epoch 11/200\n",
            "162/162 [==============================] - 0s 81us/sample - loss: 254.9692\n",
            "Epoch 12/200\n",
            "162/162 [==============================] - 0s 72us/sample - loss: 248.9388\n",
            "Epoch 13/200\n",
            "162/162 [==============================] - 0s 78us/sample - loss: 245.9051\n",
            "Epoch 14/200\n",
            "162/162 [==============================] - 0s 59us/sample - loss: 238.1174\n",
            "Epoch 15/200\n",
            "162/162 [==============================] - 0s 75us/sample - loss: 231.5979\n",
            "Epoch 16/200\n",
            "162/162 [==============================] - 0s 89us/sample - loss: 229.6989\n",
            "Epoch 17/200\n",
            "162/162 [==============================] - 0s 94us/sample - loss: 221.1769\n",
            "Epoch 18/200\n",
            "162/162 [==============================] - 0s 84us/sample - loss: 240.6541\n",
            "Epoch 19/200\n",
            "162/162 [==============================] - 0s 79us/sample - loss: 228.4459\n",
            "Epoch 20/200\n",
            "162/162 [==============================] - 0s 69us/sample - loss: 204.1826\n",
            "Epoch 21/200\n",
            "162/162 [==============================] - 0s 95us/sample - loss: 202.9421\n",
            "Epoch 22/200\n",
            "162/162 [==============================] - 0s 77us/sample - loss: 197.5050\n",
            "Epoch 23/200\n",
            "162/162 [==============================] - 0s 78us/sample - loss: 190.1093\n",
            "Epoch 24/200\n",
            "162/162 [==============================] - 0s 69us/sample - loss: 187.4730\n",
            "Epoch 25/200\n",
            "162/162 [==============================] - 0s 68us/sample - loss: 183.4119\n",
            "Epoch 26/200\n",
            "162/162 [==============================] - 0s 74us/sample - loss: 180.3847\n",
            "Epoch 27/200\n",
            "162/162 [==============================] - 0s 72us/sample - loss: 172.6889\n",
            "Epoch 28/200\n",
            "162/162 [==============================] - 0s 79us/sample - loss: 175.6334\n",
            "Epoch 29/200\n",
            "162/162 [==============================] - 0s 67us/sample - loss: 180.6604\n",
            "Epoch 30/200\n",
            "162/162 [==============================] - 0s 89us/sample - loss: 165.7083\n",
            "Epoch 31/200\n",
            "162/162 [==============================] - 0s 59us/sample - loss: 158.0904\n",
            "Epoch 32/200\n",
            "162/162 [==============================] - 0s 77us/sample - loss: 153.4067\n",
            "Epoch 33/200\n",
            "162/162 [==============================] - 0s 86us/sample - loss: 150.6219\n",
            "Epoch 34/200\n",
            "162/162 [==============================] - 0s 70us/sample - loss: 147.5482\n",
            "Epoch 35/200\n",
            "162/162 [==============================] - 0s 79us/sample - loss: 144.3945\n",
            "Epoch 36/200\n",
            "162/162 [==============================] - 0s 88us/sample - loss: 141.5202\n",
            "Epoch 37/200\n",
            "162/162 [==============================] - 0s 91us/sample - loss: 137.2689\n",
            "Epoch 38/200\n",
            "162/162 [==============================] - 0s 78us/sample - loss: 132.5048\n",
            "Epoch 39/200\n",
            "162/162 [==============================] - 0s 95us/sample - loss: 129.0417\n",
            "Epoch 40/200\n",
            "162/162 [==============================] - 0s 80us/sample - loss: 127.0601\n",
            "Epoch 41/200\n",
            "162/162 [==============================] - 0s 146us/sample - loss: 122.5492\n",
            "Epoch 42/200\n",
            "162/162 [==============================] - 0s 86us/sample - loss: 125.2007\n",
            "Epoch 43/200\n",
            "162/162 [==============================] - 0s 86us/sample - loss: 118.4187\n",
            "Epoch 44/200\n",
            "162/162 [==============================] - 0s 74us/sample - loss: 117.0758\n",
            "Epoch 45/200\n",
            "162/162 [==============================] - 0s 88us/sample - loss: 124.1583\n",
            "Epoch 46/200\n",
            "162/162 [==============================] - 0s 73us/sample - loss: 111.5640\n",
            "Epoch 47/200\n",
            "162/162 [==============================] - 0s 79us/sample - loss: 113.2283\n",
            "Epoch 48/200\n",
            "162/162 [==============================] - 0s 62us/sample - loss: 104.5890\n",
            "Epoch 49/200\n",
            "162/162 [==============================] - 0s 80us/sample - loss: 101.3662\n",
            "Epoch 50/200\n",
            "162/162 [==============================] - 0s 87us/sample - loss: 102.7369\n",
            "Epoch 51/200\n",
            "162/162 [==============================] - 0s 75us/sample - loss: 95.3356\n",
            "Epoch 52/200\n",
            "162/162 [==============================] - 0s 91us/sample - loss: 98.9089\n",
            "Epoch 53/200\n",
            "162/162 [==============================] - 0s 75us/sample - loss: 117.1246\n",
            "Epoch 54/200\n",
            "162/162 [==============================] - 0s 67us/sample - loss: 83.1383\n",
            "Epoch 55/200\n",
            "162/162 [==============================] - 0s 68us/sample - loss: 56.6448\n",
            "Epoch 56/200\n",
            "162/162 [==============================] - 0s 72us/sample - loss: 37.3682\n",
            "Epoch 57/200\n",
            "162/162 [==============================] - 0s 89us/sample - loss: 26.0132\n",
            "Epoch 58/200\n",
            "162/162 [==============================] - 0s 70us/sample - loss: 19.8328\n",
            "Epoch 59/200\n",
            "162/162 [==============================] - 0s 75us/sample - loss: 18.2270\n",
            "Epoch 60/200\n",
            "162/162 [==============================] - 0s 71us/sample - loss: 17.9662\n",
            "Epoch 61/200\n",
            "162/162 [==============================] - 0s 70us/sample - loss: 13.8577\n",
            "Epoch 62/200\n",
            "162/162 [==============================] - 0s 79us/sample - loss: 7.1339\n",
            "Epoch 63/200\n",
            "162/162 [==============================] - 0s 114us/sample - loss: 6.2999\n",
            "Epoch 64/200\n",
            "162/162 [==============================] - 0s 69us/sample - loss: 8.1725\n",
            "Epoch 65/200\n",
            "162/162 [==============================] - 0s 96us/sample - loss: 3.8202\n",
            "Epoch 66/200\n",
            "162/162 [==============================] - 0s 81us/sample - loss: 3.1504\n",
            "Epoch 67/200\n",
            "162/162 [==============================] - 0s 118us/sample - loss: 2.6348\n",
            "Epoch 68/200\n",
            "162/162 [==============================] - 0s 84us/sample - loss: 1.5345\n",
            "Epoch 69/200\n",
            "162/162 [==============================] - 0s 114us/sample - loss: 1.4159\n",
            "Epoch 70/200\n",
            "162/162 [==============================] - 0s 83us/sample - loss: 1.2419\n",
            "Epoch 71/200\n",
            "162/162 [==============================] - 0s 73us/sample - loss: 1.1324\n",
            "Epoch 72/200\n",
            "162/162 [==============================] - 0s 72us/sample - loss: 1.0400\n",
            "Epoch 73/200\n",
            "162/162 [==============================] - 0s 66us/sample - loss: 1.0662\n",
            "Epoch 74/200\n",
            "162/162 [==============================] - 0s 78us/sample - loss: 1.0044\n",
            "Epoch 75/200\n",
            "162/162 [==============================] - 0s 100us/sample - loss: 1.1470\n",
            "Epoch 76/200\n",
            "162/162 [==============================] - 0s 76us/sample - loss: 0.9787\n",
            "Epoch 77/200\n",
            "162/162 [==============================] - 0s 69us/sample - loss: 0.9023\n",
            "Epoch 78/200\n",
            "162/162 [==============================] - 0s 72us/sample - loss: 0.8966\n",
            "Epoch 79/200\n",
            "162/162 [==============================] - 0s 77us/sample - loss: 0.9917\n",
            "Epoch 80/200\n",
            "162/162 [==============================] - 0s 67us/sample - loss: 1.0294\n",
            "Epoch 81/200\n",
            "162/162 [==============================] - 0s 77us/sample - loss: 1.2751\n",
            "Epoch 82/200\n",
            "162/162 [==============================] - 0s 104us/sample - loss: 1.0516\n",
            "Epoch 83/200\n",
            "162/162 [==============================] - 0s 113us/sample - loss: 1.0588\n",
            "Epoch 84/200\n",
            "162/162 [==============================] - 0s 97us/sample - loss: 0.8881\n",
            "Epoch 85/200\n",
            "162/162 [==============================] - 0s 89us/sample - loss: 0.9180\n",
            "Epoch 86/200\n",
            "162/162 [==============================] - 0s 80us/sample - loss: 0.9072\n",
            "Epoch 87/200\n",
            "162/162 [==============================] - 0s 90us/sample - loss: 0.8987\n",
            "Epoch 88/200\n",
            "162/162 [==============================] - 0s 100us/sample - loss: 0.9931\n",
            "Epoch 89/200\n",
            "162/162 [==============================] - 0s 65us/sample - loss: 1.0375\n",
            "Epoch 90/200\n",
            "162/162 [==============================] - 0s 89us/sample - loss: 0.9686\n",
            "Epoch 91/200\n",
            "162/162 [==============================] - 0s 117us/sample - loss: 0.9292\n",
            "Epoch 92/200\n",
            "162/162 [==============================] - 0s 84us/sample - loss: 0.8797\n",
            "Epoch 93/200\n",
            "162/162 [==============================] - 0s 79us/sample - loss: 0.8784\n",
            "Epoch 94/200\n",
            "162/162 [==============================] - 0s 97us/sample - loss: 0.8937\n",
            "Epoch 95/200\n",
            "162/162 [==============================] - 0s 85us/sample - loss: 1.3118\n",
            "Epoch 96/200\n",
            "162/162 [==============================] - 0s 100us/sample - loss: 1.4437\n",
            "Epoch 97/200\n",
            "162/162 [==============================] - 0s 89us/sample - loss: 1.2080\n",
            "Epoch 98/200\n",
            "162/162 [==============================] - 0s 107us/sample - loss: 1.2308\n",
            "Epoch 99/200\n",
            "162/162 [==============================] - 0s 83us/sample - loss: 0.9765\n",
            "Epoch 100/200\n",
            "162/162 [==============================] - 0s 87us/sample - loss: 0.9526\n",
            "Epoch 101/200\n",
            "162/162 [==============================] - 0s 83us/sample - loss: 0.9069\n",
            "Epoch 102/200\n",
            "162/162 [==============================] - 0s 71us/sample - loss: 1.0945\n",
            "Epoch 103/200\n",
            "162/162 [==============================] - 0s 77us/sample - loss: 0.9489\n",
            "Epoch 104/200\n",
            "162/162 [==============================] - 0s 165us/sample - loss: 0.8783\n",
            "Epoch 105/200\n",
            "162/162 [==============================] - 0s 103us/sample - loss: 0.8792\n",
            "Epoch 106/200\n",
            "162/162 [==============================] - 0s 110us/sample - loss: 0.9261\n",
            "Epoch 107/200\n",
            "162/162 [==============================] - 0s 108us/sample - loss: 1.2148\n",
            "Epoch 108/200\n",
            "162/162 [==============================] - 0s 97us/sample - loss: 1.1080\n",
            "Epoch 109/200\n",
            "162/162 [==============================] - 0s 98us/sample - loss: 0.9025\n",
            "Epoch 110/200\n",
            "162/162 [==============================] - 0s 121us/sample - loss: 0.8689\n",
            "Epoch 111/200\n",
            "162/162 [==============================] - 0s 91us/sample - loss: 0.9599\n",
            "Epoch 112/200\n",
            "162/162 [==============================] - 0s 95us/sample - loss: 1.1533\n",
            "Epoch 113/200\n",
            "162/162 [==============================] - 0s 103us/sample - loss: 1.4986\n",
            "Epoch 114/200\n",
            "162/162 [==============================] - 0s 121us/sample - loss: 1.7586\n",
            "Epoch 115/200\n",
            "162/162 [==============================] - 0s 93us/sample - loss: 1.1840\n",
            "Epoch 116/200\n",
            "162/162 [==============================] - 0s 129us/sample - loss: 1.0058\n",
            "Epoch 117/200\n",
            "162/162 [==============================] - 0s 111us/sample - loss: 1.0019\n",
            "Epoch 118/200\n",
            "162/162 [==============================] - 0s 86us/sample - loss: 0.9432\n",
            "Epoch 119/200\n",
            "162/162 [==============================] - 0s 86us/sample - loss: 1.1192\n",
            "Epoch 120/200\n",
            "162/162 [==============================] - 0s 71us/sample - loss: 1.1239\n",
            "Epoch 121/200\n",
            "162/162 [==============================] - 0s 65us/sample - loss: 0.9255\n",
            "Epoch 122/200\n",
            "162/162 [==============================] - 0s 76us/sample - loss: 0.9739\n",
            "Epoch 123/200\n",
            "162/162 [==============================] - 0s 76us/sample - loss: 0.9010\n",
            "Epoch 124/200\n",
            "162/162 [==============================] - 0s 82us/sample - loss: 0.8872\n",
            "Epoch 125/200\n",
            "162/162 [==============================] - 0s 74us/sample - loss: 0.8958\n",
            "Epoch 126/200\n",
            "162/162 [==============================] - 0s 76us/sample - loss: 1.1632\n",
            "Epoch 127/200\n",
            "162/162 [==============================] - 0s 77us/sample - loss: 1.3005\n",
            "Epoch 128/200\n",
            "162/162 [==============================] - 0s 101us/sample - loss: 1.1203\n",
            "Epoch 129/200\n",
            "162/162 [==============================] - 0s 91us/sample - loss: 0.9003\n",
            "Epoch 130/200\n",
            "162/162 [==============================] - 0s 95us/sample - loss: 0.8816\n",
            "Epoch 131/200\n",
            "162/162 [==============================] - 0s 86us/sample - loss: 0.9330\n",
            "Epoch 132/200\n",
            "162/162 [==============================] - 0s 80us/sample - loss: 0.8916\n",
            "Epoch 133/200\n",
            "162/162 [==============================] - 0s 107us/sample - loss: 1.0761\n",
            "Epoch 134/200\n",
            "162/162 [==============================] - 0s 89us/sample - loss: 1.0090\n",
            "Epoch 135/200\n",
            "162/162 [==============================] - 0s 83us/sample - loss: 1.0197\n",
            "Epoch 136/200\n",
            "162/162 [==============================] - 0s 75us/sample - loss: 0.8573\n",
            "Epoch 137/200\n",
            "162/162 [==============================] - 0s 98us/sample - loss: 1.1009\n",
            "Epoch 138/200\n",
            "162/162 [==============================] - 0s 118us/sample - loss: 1.0767\n",
            "Epoch 139/200\n",
            "162/162 [==============================] - 0s 122us/sample - loss: 1.6352\n",
            "Epoch 140/200\n",
            "162/162 [==============================] - 0s 109us/sample - loss: 1.4647\n",
            "Epoch 141/200\n",
            "162/162 [==============================] - 0s 117us/sample - loss: 1.4191\n",
            "Epoch 142/200\n",
            "162/162 [==============================] - 0s 103us/sample - loss: 1.2882\n",
            "Epoch 143/200\n",
            "162/162 [==============================] - 0s 115us/sample - loss: 1.2124\n",
            "Epoch 144/200\n",
            "162/162 [==============================] - 0s 102us/sample - loss: 1.2388\n",
            "Epoch 145/200\n",
            "162/162 [==============================] - 0s 97us/sample - loss: 1.0333\n",
            "Epoch 146/200\n",
            "162/162 [==============================] - 0s 84us/sample - loss: 1.0923\n",
            "Epoch 147/200\n",
            "162/162 [==============================] - 0s 78us/sample - loss: 0.9674\n",
            "Epoch 148/200\n",
            "162/162 [==============================] - 0s 89us/sample - loss: 0.8945\n",
            "Epoch 149/200\n",
            "162/162 [==============================] - 0s 112us/sample - loss: 0.9217\n",
            "Epoch 150/200\n",
            "162/162 [==============================] - 0s 86us/sample - loss: 0.9525\n",
            "Epoch 151/200\n",
            "162/162 [==============================] - 0s 96us/sample - loss: 0.9201\n",
            "Epoch 152/200\n",
            "162/162 [==============================] - 0s 96us/sample - loss: 0.9002\n",
            "Epoch 153/200\n",
            "162/162 [==============================] - 0s 93us/sample - loss: 0.9033\n",
            "Epoch 154/200\n",
            "162/162 [==============================] - 0s 81us/sample - loss: 0.8932\n",
            "Epoch 155/200\n",
            "162/162 [==============================] - 0s 106us/sample - loss: 1.0521\n",
            "Epoch 156/200\n",
            "162/162 [==============================] - 0s 105us/sample - loss: 0.9544\n",
            "Epoch 157/200\n",
            "162/162 [==============================] - 0s 101us/sample - loss: 0.9165\n",
            "Epoch 158/200\n",
            "162/162 [==============================] - 0s 101us/sample - loss: 0.9386\n",
            "Epoch 159/200\n",
            "162/162 [==============================] - 0s 140us/sample - loss: 0.9338\n",
            "Epoch 160/200\n",
            "162/162 [==============================] - 0s 61us/sample - loss: 1.0420\n",
            "Epoch 161/200\n",
            "162/162 [==============================] - 0s 57us/sample - loss: 1.1149\n",
            "Epoch 162/200\n",
            "162/162 [==============================] - 0s 62us/sample - loss: 0.9372\n",
            "Epoch 163/200\n",
            "162/162 [==============================] - 0s 60us/sample - loss: 0.9347\n",
            "Epoch 164/200\n",
            "162/162 [==============================] - 0s 50us/sample - loss: 1.0924\n",
            "Epoch 165/200\n",
            "162/162 [==============================] - 0s 59us/sample - loss: 1.0179\n",
            "Epoch 166/200\n",
            "162/162 [==============================] - 0s 61us/sample - loss: 0.9254\n",
            "Epoch 167/200\n",
            "162/162 [==============================] - 0s 59us/sample - loss: 0.8986\n",
            "Epoch 168/200\n",
            "162/162 [==============================] - 0s 63us/sample - loss: 0.8965\n",
            "Epoch 169/200\n",
            "162/162 [==============================] - 0s 61us/sample - loss: 0.8833\n",
            "Epoch 170/200\n",
            "162/162 [==============================] - 0s 69us/sample - loss: 0.8841\n",
            "Epoch 171/200\n",
            "162/162 [==============================] - 0s 145us/sample - loss: 0.8762\n",
            "Epoch 172/200\n",
            "162/162 [==============================] - 0s 84us/sample - loss: 0.9107\n",
            "Epoch 173/200\n",
            "162/162 [==============================] - 0s 94us/sample - loss: 0.8915\n",
            "Epoch 174/200\n",
            "162/162 [==============================] - 0s 107us/sample - loss: 1.1940\n",
            "Epoch 175/200\n",
            "162/162 [==============================] - 0s 81us/sample - loss: 1.2108\n",
            "Epoch 176/200\n",
            "162/162 [==============================] - 0s 81us/sample - loss: 1.0361\n",
            "Epoch 177/200\n",
            "162/162 [==============================] - 0s 60us/sample - loss: 1.0797\n",
            "Epoch 178/200\n",
            "162/162 [==============================] - 0s 62us/sample - loss: 1.1017\n",
            "Epoch 179/200\n",
            "162/162 [==============================] - 0s 65us/sample - loss: 1.1909\n",
            "Epoch 180/200\n",
            "162/162 [==============================] - 0s 60us/sample - loss: 1.1274\n",
            "Epoch 181/200\n",
            "162/162 [==============================] - 0s 56us/sample - loss: 0.8837\n",
            "Epoch 182/200\n",
            "162/162 [==============================] - 0s 58us/sample - loss: 0.9887\n",
            "Epoch 183/200\n",
            "162/162 [==============================] - 0s 60us/sample - loss: 1.0870\n",
            "Epoch 184/200\n",
            "162/162 [==============================] - 0s 62us/sample - loss: 0.9332\n",
            "Epoch 185/200\n",
            "162/162 [==============================] - 0s 104us/sample - loss: 0.9655\n",
            "Epoch 186/200\n",
            "162/162 [==============================] - 0s 113us/sample - loss: 0.9109\n",
            "Epoch 187/200\n",
            "162/162 [==============================] - 0s 101us/sample - loss: 1.3820\n",
            "Epoch 188/200\n",
            "162/162 [==============================] - 0s 122us/sample - loss: 0.9553\n",
            "Epoch 189/200\n",
            "162/162 [==============================] - 0s 108us/sample - loss: 0.9169\n",
            "Epoch 190/200\n",
            "162/162 [==============================] - 0s 70us/sample - loss: 0.9430\n",
            "Epoch 191/200\n",
            "162/162 [==============================] - 0s 70us/sample - loss: 1.0468\n",
            "Epoch 192/200\n",
            "162/162 [==============================] - 0s 81us/sample - loss: 1.1128\n",
            "Epoch 193/200\n",
            "162/162 [==============================] - 0s 113us/sample - loss: 0.9345\n",
            "Epoch 194/200\n",
            "162/162 [==============================] - 0s 125us/sample - loss: 0.9031\n",
            "Epoch 195/200\n",
            "162/162 [==============================] - 0s 106us/sample - loss: 1.0718\n",
            "Epoch 196/200\n",
            "162/162 [==============================] - 0s 81us/sample - loss: 1.1654\n",
            "Epoch 197/200\n",
            "162/162 [==============================] - 0s 97us/sample - loss: 0.9433\n",
            "Epoch 198/200\n",
            "162/162 [==============================] - 0s 109us/sample - loss: 0.9429\n",
            "Epoch 199/200\n",
            "162/162 [==============================] - 0s 100us/sample - loss: 0.8807\n",
            "Epoch 200/200\n",
            "162/162 [==============================] - 0s 94us/sample - loss: 0.8815\n"
          ],
          "name": "stdout"
        }
      ]
    },
    {
      "cell_type": "code",
      "metadata": {
        "colab": {
          "base_uri": "https://localhost:8080/",
          "height": 282
        },
        "id": "pel3HxRX8Nx_",
        "outputId": "58e03578-625b-4937-9070-c2edeb8349d1"
      },
      "source": [
        "plt.plot(r.history['loss'],label='loss vs epoch')\n"
      ],
      "execution_count": 66,
      "outputs": [
        {
          "output_type": "execute_result",
          "data": {
            "text/plain": [
              "[<matplotlib.lines.Line2D at 0x7f3ae8e8a4a8>]"
            ]
          },
          "metadata": {
            "tags": []
          },
          "execution_count": 66
        },
        {
          "output_type": "display_data",
          "data": {
            "image/png": "[encoded data removed]",
            "text/plain": [
              "<Figure size 432x288 with 1 Axes>"
            ]
          },
          "metadata": {
            "tags": [],
            "needs_background": "light"
          }
        }
      ]
    },
    {
      "cell_type": "code",
      "metadata": {
        "colab": {
          "base_uri": "https://localhost:8080/"
        },
        "id": "-6Ubes0w83gk",
        "outputId": "1180a032-53c9-4207-efa0-6aea92907d45"
      },
      "source": [
        "type(r)\n"
      ],
      "execution_count": 67,
      "outputs": [
        {
          "output_type": "execute_result",
          "data": {
            "text/plain": [
              "tensorflow.python.keras.callbacks.History"
            ]
          },
          "metadata": {
            "tags": []
          },
          "execution_count": 67
        }
      ]
    },
    {
      "cell_type": "code",
      "metadata": {
        "colab": {
          "base_uri": "https://localhost:8080/"
        },
        "id": "pwbc2Feb86EF",
        "outputId": "d875277f-1478-4e9e-ea7e-9535bf4e54d8"
      },
      "source": [
        "## How would I know which layer corresponse to dense? \n",
        "## It seems like layers[0] and ommitting it yeilds same results\n",
        "\n",
        "#model.get_weights()\n",
        "print(model.layers)\n",
        "print(model.layers[0].get_weights())\n",
        "slope=model.layers[0].get_weights()[0][0,0] # wow this is dangerous. IS there a better way to do this in python? Should be labeled. \n",
        "print(slope)\n",
        "b=model.get_weights()[1][0]\n",
        "print(b)"
      ],
      "execution_count": 108,
      "outputs": [
        {
          "output_type": "stream",
          "text": [
            "[<tensorflow.python.keras.layers.core.Dense object at 0x7f3ae862ad68>]\n",
            "[array([[0.35212398]], dtype=float32), array([17.788208], dtype=float32)]\n",
            "0.35212398\n",
            "17.788208\n"
          ],
          "name": "stdout"
        }
      ]
    },
    {
      "cell_type": "code",
      "metadata": {
        "colab": {
          "base_uri": "https://localhost:8080/"
        },
        "id": "F4Htqvft-4DK",
        "outputId": "7b4e9631-4e26-400e-9cbc-7430f18b0cd8"
      },
      "source": [
        "# time to double\n",
        "np.log(2)/slope"
      ],
      "execution_count": 90,
      "outputs": [
        {
          "output_type": "execute_result",
          "data": {
            "text/plain": [
              "1.9684748221876687"
            ]
          },
          "metadata": {
            "tags": []
          },
          "execution_count": 90
        }
      ]
    },
    {
      "cell_type": "markdown",
      "metadata": {
        "id": "CvmpahHNB2O7"
      },
      "source": [
        "## \"Predict\" i.e., plot fit line with actual values"
      ]
    },
    {
      "cell_type": "code",
      "metadata": {
        "colab": {
          "base_uri": "https://localhost:8080/",
          "height": 282
        },
        "id": "jRsNX6-n_brO",
        "outputId": "add39f19-6a52-4965-e005-506a29698e9c"
      },
      "source": [
        "predicted=x*slope+b\n",
        "plt.scatter(x,y)\n",
        "plt.plot(x,predicted,'r--')\n"
      ],
      "execution_count": 115,
      "outputs": [
        {
          "output_type": "execute_result",
          "data": {
            "text/plain": [
              "[<matplotlib.lines.Line2D at 0x7f3ae2aa9b38>]"
            ]
          },
          "metadata": {
            "tags": []
          },
          "execution_count": 115
        },
        {
          "output_type": "display_data",
          "data": {
            "image/png": "[encoded data removed]",
            "text/plain": [
              "<Figure size 432x288 with 1 Axes>"
            ]
          },
          "metadata": {
            "tags": [],
            "needs_background": "light"
          }
        }
      ]
    }
  ]
}