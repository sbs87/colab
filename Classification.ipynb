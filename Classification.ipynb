{
  "nbformat": 4,
  "nbformat_minor": 0,
  "metadata": {
    "colab": {
      "name": "Classification",
      "provenance": [],
      "authorship_tag": "ABX9TyOTNXBT1yoiVhRbyHsR2I1P",
      "include_colab_link": true
    },
    "kernelspec": {
      "name": "python3",
      "display_name": "Python 3"
    }
  },
  "cells": [
    {
      "cell_type": "markdown",
      "metadata": {
        "id": "view-in-github",
        "colab_type": "text"
      },
      "source": [
        "<a href=\"https://colab.research.google.com/github/sbs87/colab/blob/master/Classification.ipynb\" target=\"_parent\"><img src=\"https://colab.research.google.com/assets/colab-badge.svg\" alt=\"Open In Colab\"/></a>"
      ]
    },
    {
      "cell_type": "markdown",
      "metadata": {
        "id": "9kRdMbHwRax5"
      },
      "source": [
        "# Install TF 2.0"
      ]
    },
    {
      "cell_type": "code",
      "metadata": {
        "colab": {
          "base_uri": "https://localhost:8080/"
        },
        "id": "UlGiQ6wuHZle",
        "outputId": "ee2ad195-399a-4c97-ae83-aed16df62ba6"
      },
      "source": [
        "!pip install -q tensorflow==2.0.0-beta1"
      ],
      "execution_count": 1,
      "outputs": [
        {
          "output_type": "stream",
          "text": [
            "\u001b[K     |████████████████████████████████| 87.9MB 42kB/s \n",
            "\u001b[K     |████████████████████████████████| 501kB 27.1MB/s \n",
            "\u001b[K     |████████████████████████████████| 51kB 3.4MB/s \n",
            "\u001b[K     |████████████████████████████████| 3.1MB 34.3MB/s \n",
            "\u001b[?25h"
          ],
          "name": "stdout"
        }
      ]
    },
    {
      "cell_type": "markdown",
      "metadata": {
        "id": "GYFKpSHYRPs4"
      },
      "source": [
        "# import packages"
      ]
    },
    {
      "cell_type": "code",
      "metadata": {
        "colab": {
          "base_uri": "https://localhost:8080/"
        },
        "id": "LKI7S0BKKQyr",
        "outputId": "1821e633-d603-40a3-b826-03351f89d40f"
      },
      "source": [
        "import tensorflow as tf\n",
        "print(tf.__version__)"
      ],
      "execution_count": 3,
      "outputs": [
        {
          "output_type": "stream",
          "text": [
            "2.0.0-beta1\n"
          ],
          "name": "stdout"
        }
      ]
    },
    {
      "cell_type": "code",
      "metadata": {
        "id": "JcdJTQVyKjQW"
      },
      "source": [
        "from sklearn.datasets import load_breast_cancer"
      ],
      "execution_count": 4,
      "outputs": []
    },
    {
      "cell_type": "markdown",
      "metadata": {
        "id": "GquQmIBRRWIV"
      },
      "source": [
        "#Import Data"
      ]
    },
    {
      "cell_type": "code",
      "metadata": {
        "colab": {
          "base_uri": "https://localhost:8080/"
        },
        "id": "Wu51uzuMKupc",
        "outputId": "9ca9863a-3f4a-47ec-9dfa-8fcc2e3a422a"
      },
      "source": [
        "data=load_breast_cancer()\n",
        "data.keys()"
      ],
      "execution_count": 8,
      "outputs": [
        {
          "output_type": "execute_result",
          "data": {
            "text/plain": [
              "dict_keys(['data', 'target', 'target_names', 'DESCR', 'feature_names', 'filename'])"
            ]
          },
          "metadata": {
            "tags": []
          },
          "execution_count": 8
        }
      ]
    },
    {
      "cell_type": "code",
      "metadata": {
        "colab": {
          "base_uri": "https://localhost:8080/"
        },
        "id": "ILxE4NkJLEHC",
        "outputId": "f380e33b-b4d6-4e07-c232-c9157dcca730"
      },
      "source": [
        "data.data.shape"
      ],
      "execution_count": 9,
      "outputs": [
        {
          "output_type": "execute_result",
          "data": {
            "text/plain": [
              "(569, 30)"
            ]
          },
          "metadata": {
            "tags": []
          },
          "execution_count": 9
        }
      ]
    },
    {
      "cell_type": "code",
      "metadata": {
        "colab": {
          "base_uri": "https://localhost:8080/"
        },
        "id": "PRaSWNN3LnoD",
        "outputId": "7e0b6ec1-a75b-4bb8-9314-0d9739206e7a"
      },
      "source": [
        "data.target"
      ],
      "execution_count": 11,
      "outputs": [
        {
          "output_type": "execute_result",
          "data": {
            "text/plain": [
              "array([0, 0, 0, 0, 0, 0, 0, 0, 0, 0, 0, 0, 0, 0, 0, 0, 0, 0, 0, 1, 1, 1,\n",
              "       0, 0, 0, 0, 0, 0, 0, 0, 0, 0, 0, 0, 0, 0, 0, 1, 0, 0, 0, 0, 0, 0,\n",
              "       0, 0, 1, 0, 1, 1, 1, 1, 1, 0, 0, 1, 0, 0, 1, 1, 1, 1, 0, 1, 0, 0,\n",
              "       1, 1, 1, 1, 0, 1, 0, 0, 1, 0, 1, 0, 0, 1, 1, 1, 0, 0, 1, 0, 0, 0,\n",
              "       1, 1, 1, 0, 1, 1, 0, 0, 1, 1, 1, 0, 0, 1, 1, 1, 1, 0, 1, 1, 0, 1,\n",
              "       1, 1, 1, 1, 1, 1, 1, 0, 0, 0, 1, 0, 0, 1, 1, 1, 0, 0, 1, 0, 1, 0,\n",
              "       0, 1, 0, 0, 1, 1, 0, 1, 1, 0, 1, 1, 1, 1, 0, 1, 1, 1, 1, 1, 1, 1,\n",
              "       1, 1, 0, 1, 1, 1, 1, 0, 0, 1, 0, 1, 1, 0, 0, 1, 1, 0, 0, 1, 1, 1,\n",
              "       1, 0, 1, 1, 0, 0, 0, 1, 0, 1, 0, 1, 1, 1, 0, 1, 1, 0, 0, 1, 0, 0,\n",
              "       0, 0, 1, 0, 0, 0, 1, 0, 1, 0, 1, 1, 0, 1, 0, 0, 0, 0, 1, 1, 0, 0,\n",
              "       1, 1, 1, 0, 1, 1, 1, 1, 1, 0, 0, 1, 1, 0, 1, 1, 0, 0, 1, 0, 1, 1,\n",
              "       1, 1, 0, 1, 1, 1, 1, 1, 0, 1, 0, 0, 0, 0, 0, 0, 0, 0, 0, 0, 0, 0,\n",
              "       0, 0, 1, 1, 1, 1, 1, 1, 0, 1, 0, 1, 1, 0, 1, 1, 0, 1, 0, 0, 1, 1,\n",
              "       1, 1, 1, 1, 1, 1, 1, 1, 1, 1, 1, 0, 1, 1, 0, 1, 0, 1, 1, 1, 1, 1,\n",
              "       1, 1, 1, 1, 1, 1, 1, 1, 1, 0, 1, 1, 1, 0, 1, 0, 1, 1, 1, 1, 0, 0,\n",
              "       0, 1, 1, 1, 1, 0, 1, 0, 1, 0, 1, 1, 1, 0, 1, 1, 1, 1, 1, 1, 1, 0,\n",
              "       0, 0, 1, 1, 1, 1, 1, 1, 1, 1, 1, 1, 1, 0, 0, 1, 0, 0, 0, 1, 0, 0,\n",
              "       1, 1, 1, 1, 1, 0, 1, 1, 1, 1, 1, 0, 1, 1, 1, 0, 1, 1, 0, 0, 1, 1,\n",
              "       1, 1, 1, 1, 0, 1, 1, 1, 1, 1, 1, 1, 0, 1, 1, 1, 1, 1, 0, 1, 1, 0,\n",
              "       1, 1, 1, 1, 1, 1, 1, 1, 1, 1, 1, 1, 0, 1, 0, 0, 1, 0, 1, 1, 1, 1,\n",
              "       1, 0, 1, 1, 0, 1, 0, 1, 1, 0, 1, 0, 1, 1, 1, 1, 1, 1, 1, 1, 0, 0,\n",
              "       1, 1, 1, 1, 1, 1, 0, 1, 1, 1, 1, 1, 1, 1, 1, 1, 1, 0, 1, 1, 1, 1,\n",
              "       1, 1, 1, 0, 1, 0, 1, 1, 0, 1, 1, 1, 1, 1, 0, 0, 1, 0, 1, 0, 1, 1,\n",
              "       1, 1, 1, 0, 1, 1, 0, 1, 0, 1, 0, 0, 1, 1, 1, 0, 1, 1, 1, 1, 1, 1,\n",
              "       1, 1, 1, 1, 1, 0, 1, 0, 0, 1, 1, 1, 1, 1, 1, 1, 1, 1, 1, 1, 1, 1,\n",
              "       1, 1, 1, 1, 1, 1, 1, 1, 1, 1, 1, 1, 0, 0, 0, 0, 0, 0, 1])"
            ]
          },
          "metadata": {
            "tags": []
          },
          "execution_count": 11
        }
      ]
    },
    {
      "cell_type": "code",
      "metadata": {
        "colab": {
          "base_uri": "https://localhost:8080/"
        },
        "id": "sROaLrDqLyCF",
        "outputId": "85bade9e-cbd7-4314-bda1-1d085537f02c"
      },
      "source": [
        "data.target_names"
      ],
      "execution_count": 12,
      "outputs": [
        {
          "output_type": "execute_result",
          "data": {
            "text/plain": [
              "array(['malignant', 'benign'], dtype='<U9')"
            ]
          },
          "metadata": {
            "tags": []
          },
          "execution_count": 12
        }
      ]
    },
    {
      "cell_type": "code",
      "metadata": {
        "colab": {
          "base_uri": "https://localhost:8080/"
        },
        "id": "vBOmPGezL4S_",
        "outputId": "c758a5ea-ce94-48ac-b151-6cf1c9a7f197"
      },
      "source": [
        "data.target.shape"
      ],
      "execution_count": 14,
      "outputs": [
        {
          "output_type": "execute_result",
          "data": {
            "text/plain": [
              "(569,)"
            ]
          },
          "metadata": {
            "tags": []
          },
          "execution_count": 14
        }
      ]
    },
    {
      "cell_type": "code",
      "metadata": {
        "colab": {
          "base_uri": "https://localhost:8080/"
        },
        "id": "OCSzGr4wL9PM",
        "outputId": "97c96e81-1878-4119-f6e6-25aae8c14088"
      },
      "source": [
        "data.feature_names"
      ],
      "execution_count": 16,
      "outputs": [
        {
          "output_type": "execute_result",
          "data": {
            "text/plain": [
              "array(['mean radius', 'mean texture', 'mean perimeter', 'mean area',\n",
              "       'mean smoothness', 'mean compactness', 'mean concavity',\n",
              "       'mean concave points', 'mean symmetry', 'mean fractal dimension',\n",
              "       'radius error', 'texture error', 'perimeter error', 'area error',\n",
              "       'smoothness error', 'compactness error', 'concavity error',\n",
              "       'concave points error', 'symmetry error',\n",
              "       'fractal dimension error', 'worst radius', 'worst texture',\n",
              "       'worst perimeter', 'worst area', 'worst smoothness',\n",
              "       'worst compactness', 'worst concavity', 'worst concave points',\n",
              "       'worst symmetry', 'worst fractal dimension'], dtype='<U23')"
            ]
          },
          "metadata": {
            "tags": []
          },
          "execution_count": 16
        }
      ]
    },
    {
      "cell_type": "code",
      "metadata": {
        "colab": {
          "base_uri": "https://localhost:8080/"
        },
        "id": "hrtcKplWMCcT",
        "outputId": "f0ee4507-147b-40e7-ad60-f8b0753230bd"
      },
      "source": [
        "from sklearn.model_selection import train_test_split\n",
        "x_train,x_test,y_train,y_test = train_test_split(data.data,data.target,test_size=0.33)\n",
        " "
      ],
      "execution_count": 20,
      "outputs": [
        {
          "output_type": "execute_result",
          "data": {
            "text/plain": [
              "array([1, 1, 0, 0, 1, 1, 0, 1, 1, 1, 1, 1, 1, 1, 1, 1, 1, 0, 1, 0, 1, 0,\n",
              "       0, 1, 1, 0, 1, 0, 1, 1, 0, 1, 0, 0, 1, 1, 1, 1, 0, 1, 1, 0, 1, 1,\n",
              "       0, 1, 1, 0, 0, 1, 1, 1, 1, 1, 1, 1, 1, 0, 0, 0, 0, 0, 1, 0, 1, 1,\n",
              "       0, 1, 1, 1, 1, 1, 1, 1, 1, 0, 0, 1, 1, 0, 0, 0, 1, 1, 1, 0, 1, 1,\n",
              "       0, 1, 1, 1, 1, 1, 1, 1, 1, 1, 1, 1, 0, 0, 1, 0, 0, 1, 0, 1, 0, 1,\n",
              "       0, 0, 1, 1, 1, 0, 1, 1, 1, 0, 1, 0, 1, 1, 1, 0, 0, 0, 0, 1, 1, 1,\n",
              "       1, 0, 1, 0, 0, 1, 1, 1, 0, 1, 0, 1, 1, 0, 1, 0, 0, 0, 1, 0, 0, 1,\n",
              "       1, 0, 0, 1, 0, 1, 1, 0, 0, 0, 0, 1, 0, 1, 1, 0, 1, 1, 1, 1, 0, 1,\n",
              "       1, 1, 1, 1, 1, 0, 0, 1, 0, 0, 0, 1, 1, 0, 1, 1, 0, 0, 1, 1, 1, 0,\n",
              "       1, 1, 0, 0, 1, 1, 1, 1, 0, 1, 0, 1, 1, 1, 0, 1, 1, 1, 1, 1, 1, 1,\n",
              "       1, 0, 1, 0, 1, 1, 1, 1, 1, 1, 0, 1, 0, 1, 1, 1, 1, 1, 0, 0, 1, 0,\n",
              "       1, 1, 1, 1, 1, 1, 1, 1, 1, 1, 1, 1, 1, 0, 0, 1, 0, 1, 0, 1, 1, 1,\n",
              "       1, 1, 1, 0, 1, 0, 0, 1, 1, 0, 1, 1, 1, 1, 1, 1, 1, 0, 1, 1, 0, 0,\n",
              "       0, 1, 1, 1, 1, 0, 0, 1, 1, 0, 0, 1, 0, 1, 1, 1, 0, 0, 0, 0, 0, 0,\n",
              "       1, 1, 0, 1, 1, 1, 1, 0, 1, 1, 1, 1, 1, 0, 0, 1, 0, 0, 1, 1, 0, 0,\n",
              "       1, 0, 0, 0, 1, 0, 1, 1, 0, 1, 0, 1, 1, 1, 1, 0, 1, 1, 1, 1, 1, 1,\n",
              "       0, 1, 0, 1, 1, 1, 1, 1, 0, 1, 1, 0, 1, 1, 1, 0, 1, 1, 0, 1, 1, 1,\n",
              "       0, 0, 1, 1, 1, 0, 1])"
            ]
          },
          "metadata": {
            "tags": []
          },
          "execution_count": 20
        }
      ]
    },
    {
      "cell_type": "code",
      "metadata": {
        "colab": {
          "base_uri": "https://localhost:8080/"
        },
        "id": "9hteFMN3MyeR",
        "outputId": "0411f9fe-9e50-446d-b2dc-ea44c6d9dbef"
      },
      "source": [
        "N,D=x_train.shape\n",
        "N\n",
        "D"
      ],
      "execution_count": 25,
      "outputs": [
        {
          "output_type": "execute_result",
          "data": {
            "text/plain": [
              "30"
            ]
          },
          "metadata": {
            "tags": []
          },
          "execution_count": 25
        }
      ]
    },
    {
      "cell_type": "code",
      "metadata": {
        "id": "MKBc3ogtNKvE"
      },
      "source": [
        "from sklearn.preprocessing import StandardScaler\n",
        "scaler= StandardScaler()\n",
        "scaler\n",
        "x_train = scaler.fit_transform(x_train)\n",
        "x_train\n",
        "x_test= scaler.fit_transform(x_test)\n"
      ],
      "execution_count": 30,
      "outputs": []
    },
    {
      "cell_type": "code",
      "metadata": {
        "colab": {
          "base_uri": "https://localhost:8080/"
        },
        "id": "N8mbbYlIOMLv",
        "outputId": "2ef5abf7-711e-425b-d1a2-3bc4a450ed8d"
      },
      "source": [
        "model=tf.keras.models.Sequential([tf.keras.layers.Input(shape=(D,)),tf.keras.layers.Dense(1,activation=\"sigmoid\")])\n",
        "model.compile(optimizer=\"adam\",loss=\"binary_crossentropy\",metrics=[\"accuracy\"])\n",
        "r=model.fit(x_train,y_train,validation_data=(x_test,y_test),epochs=100)"
      ],
      "execution_count": 35,
      "outputs": [
        {
          "output_type": "stream",
          "text": [
            "Train on 381 samples, validate on 188 samples\n",
            "Epoch 1/100\n",
            "381/381 [==============================] - 0s 499us/sample - loss: 1.9242 - accuracy: 0.1050 - val_loss: 1.9240 - val_accuracy: 0.0691\n",
            "Epoch 2/100\n",
            "381/381 [==============================] - 0s 91us/sample - loss: 1.7965 - accuracy: 0.1181 - val_loss: 1.7882 - val_accuracy: 0.0745\n",
            "Epoch 3/100\n",
            "381/381 [==============================] - 0s 72us/sample - loss: 1.6706 - accuracy: 0.1365 - val_loss: 1.6596 - val_accuracy: 0.1011\n",
            "Epoch 4/100\n",
            "381/381 [==============================] - 0s 68us/sample - loss: 1.5518 - accuracy: 0.1601 - val_loss: 1.5357 - val_accuracy: 0.1277\n",
            "Epoch 5/100\n",
            "381/381 [==============================] - 0s 65us/sample - loss: 1.4391 - accuracy: 0.1732 - val_loss: 1.4177 - val_accuracy: 0.1702\n",
            "Epoch 6/100\n",
            "381/381 [==============================] - 0s 71us/sample - loss: 1.3313 - accuracy: 0.2100 - val_loss: 1.3075 - val_accuracy: 0.2021\n",
            "Epoch 7/100\n",
            "381/381 [==============================] - 0s 79us/sample - loss: 1.2310 - accuracy: 0.2467 - val_loss: 1.2051 - val_accuracy: 0.2447\n",
            "Epoch 8/100\n",
            "381/381 [==============================] - 0s 75us/sample - loss: 1.1369 - accuracy: 0.2913 - val_loss: 1.1112 - val_accuracy: 0.3085\n",
            "Epoch 9/100\n",
            "381/381 [==============================] - 0s 64us/sample - loss: 1.0529 - accuracy: 0.3333 - val_loss: 1.0238 - val_accuracy: 0.3404\n",
            "Epoch 10/100\n",
            "381/381 [==============================] - 0s 80us/sample - loss: 0.9736 - accuracy: 0.3648 - val_loss: 0.9458 - val_accuracy: 0.3883\n",
            "Epoch 11/100\n",
            "381/381 [==============================] - 0s 83us/sample - loss: 0.9054 - accuracy: 0.4304 - val_loss: 0.8735 - val_accuracy: 0.4043\n",
            "Epoch 12/100\n",
            "381/381 [==============================] - 0s 73us/sample - loss: 0.8414 - accuracy: 0.4856 - val_loss: 0.8105 - val_accuracy: 0.4415\n",
            "Epoch 13/100\n",
            "381/381 [==============================] - 0s 70us/sample - loss: 0.7865 - accuracy: 0.5486 - val_loss: 0.7533 - val_accuracy: 0.5106\n",
            "Epoch 14/100\n",
            "381/381 [==============================] - 0s 71us/sample - loss: 0.7357 - accuracy: 0.5984 - val_loss: 0.7040 - val_accuracy: 0.5532\n",
            "Epoch 15/100\n",
            "381/381 [==============================] - 0s 75us/sample - loss: 0.6924 - accuracy: 0.6352 - val_loss: 0.6592 - val_accuracy: 0.6170\n",
            "Epoch 16/100\n",
            "381/381 [==============================] - 0s 72us/sample - loss: 0.6534 - accuracy: 0.6562 - val_loss: 0.6188 - val_accuracy: 0.6596\n",
            "Epoch 17/100\n",
            "381/381 [==============================] - 0s 77us/sample - loss: 0.6177 - accuracy: 0.6850 - val_loss: 0.5833 - val_accuracy: 0.7234\n",
            "Epoch 18/100\n",
            "381/381 [==============================] - 0s 72us/sample - loss: 0.5863 - accuracy: 0.7034 - val_loss: 0.5508 - val_accuracy: 0.7660\n",
            "Epoch 19/100\n",
            "381/381 [==============================] - 0s 69us/sample - loss: 0.5574 - accuracy: 0.7270 - val_loss: 0.5216 - val_accuracy: 0.8032\n",
            "Epoch 20/100\n",
            "381/381 [==============================] - 0s 83us/sample - loss: 0.5307 - accuracy: 0.7533 - val_loss: 0.4957 - val_accuracy: 0.8245\n",
            "Epoch 21/100\n",
            "381/381 [==============================] - 0s 96us/sample - loss: 0.5070 - accuracy: 0.7874 - val_loss: 0.4717 - val_accuracy: 0.8351\n",
            "Epoch 22/100\n",
            "381/381 [==============================] - 0s 66us/sample - loss: 0.4849 - accuracy: 0.8136 - val_loss: 0.4501 - val_accuracy: 0.8511\n",
            "Epoch 23/100\n",
            "381/381 [==============================] - 0s 70us/sample - loss: 0.4649 - accuracy: 0.8294 - val_loss: 0.4299 - val_accuracy: 0.8670\n",
            "Epoch 24/100\n",
            "381/381 [==============================] - 0s 70us/sample - loss: 0.4460 - accuracy: 0.8478 - val_loss: 0.4117 - val_accuracy: 0.8830\n",
            "Epoch 25/100\n",
            "381/381 [==============================] - 0s 62us/sample - loss: 0.4288 - accuracy: 0.8635 - val_loss: 0.3950 - val_accuracy: 0.8830\n",
            "Epoch 26/100\n",
            "381/381 [==============================] - 0s 72us/sample - loss: 0.4132 - accuracy: 0.8740 - val_loss: 0.3794 - val_accuracy: 0.8830\n",
            "Epoch 27/100\n",
            "381/381 [==============================] - 0s 85us/sample - loss: 0.3982 - accuracy: 0.8766 - val_loss: 0.3650 - val_accuracy: 0.8830\n",
            "Epoch 28/100\n",
            "381/381 [==============================] - 0s 81us/sample - loss: 0.3840 - accuracy: 0.8819 - val_loss: 0.3522 - val_accuracy: 0.8989\n",
            "Epoch 29/100\n",
            "381/381 [==============================] - 0s 77us/sample - loss: 0.3715 - accuracy: 0.8845 - val_loss: 0.3399 - val_accuracy: 0.9043\n",
            "Epoch 30/100\n",
            "381/381 [==============================] - 0s 85us/sample - loss: 0.3595 - accuracy: 0.8898 - val_loss: 0.3285 - val_accuracy: 0.9043\n",
            "Epoch 31/100\n",
            "381/381 [==============================] - 0s 84us/sample - loss: 0.3481 - accuracy: 0.8950 - val_loss: 0.3181 - val_accuracy: 0.9096\n",
            "Epoch 32/100\n",
            "381/381 [==============================] - 0s 76us/sample - loss: 0.3376 - accuracy: 0.8950 - val_loss: 0.3083 - val_accuracy: 0.9096\n",
            "Epoch 33/100\n",
            "381/381 [==============================] - 0s 74us/sample - loss: 0.3281 - accuracy: 0.8976 - val_loss: 0.2989 - val_accuracy: 0.9202\n",
            "Epoch 34/100\n",
            "381/381 [==============================] - 0s 65us/sample - loss: 0.3189 - accuracy: 0.9003 - val_loss: 0.2901 - val_accuracy: 0.9309\n",
            "Epoch 35/100\n",
            "381/381 [==============================] - 0s 80us/sample - loss: 0.3100 - accuracy: 0.9003 - val_loss: 0.2820 - val_accuracy: 0.9309\n",
            "Epoch 36/100\n",
            "381/381 [==============================] - 0s 103us/sample - loss: 0.3019 - accuracy: 0.9029 - val_loss: 0.2743 - val_accuracy: 0.9362\n",
            "Epoch 37/100\n",
            "381/381 [==============================] - 0s 81us/sample - loss: 0.2940 - accuracy: 0.9055 - val_loss: 0.2672 - val_accuracy: 0.9362\n",
            "Epoch 38/100\n",
            "381/381 [==============================] - 0s 80us/sample - loss: 0.2868 - accuracy: 0.9108 - val_loss: 0.2604 - val_accuracy: 0.9415\n",
            "Epoch 39/100\n",
            "381/381 [==============================] - 0s 79us/sample - loss: 0.2799 - accuracy: 0.9108 - val_loss: 0.2541 - val_accuracy: 0.9415\n",
            "Epoch 40/100\n",
            "381/381 [==============================] - 0s 71us/sample - loss: 0.2733 - accuracy: 0.9108 - val_loss: 0.2481 - val_accuracy: 0.9415\n",
            "Epoch 41/100\n",
            "381/381 [==============================] - 0s 68us/sample - loss: 0.2671 - accuracy: 0.9108 - val_loss: 0.2423 - val_accuracy: 0.9468\n",
            "Epoch 42/100\n",
            "381/381 [==============================] - 0s 74us/sample - loss: 0.2611 - accuracy: 0.9108 - val_loss: 0.2370 - val_accuracy: 0.9468\n",
            "Epoch 43/100\n",
            "381/381 [==============================] - 0s 68us/sample - loss: 0.2557 - accuracy: 0.9134 - val_loss: 0.2318 - val_accuracy: 0.9468\n",
            "Epoch 44/100\n",
            "381/381 [==============================] - 0s 73us/sample - loss: 0.2505 - accuracy: 0.9160 - val_loss: 0.2267 - val_accuracy: 0.9521\n",
            "Epoch 45/100\n",
            "381/381 [==============================] - 0s 76us/sample - loss: 0.2453 - accuracy: 0.9186 - val_loss: 0.2221 - val_accuracy: 0.9521\n",
            "Epoch 46/100\n",
            "381/381 [==============================] - 0s 94us/sample - loss: 0.2405 - accuracy: 0.9186 - val_loss: 0.2177 - val_accuracy: 0.9574\n",
            "Epoch 47/100\n",
            "381/381 [==============================] - 0s 68us/sample - loss: 0.2359 - accuracy: 0.9213 - val_loss: 0.2134 - val_accuracy: 0.9574\n",
            "Epoch 48/100\n",
            "381/381 [==============================] - 0s 77us/sample - loss: 0.2315 - accuracy: 0.9239 - val_loss: 0.2094 - val_accuracy: 0.9574\n",
            "Epoch 49/100\n",
            "381/381 [==============================] - 0s 68us/sample - loss: 0.2273 - accuracy: 0.9239 - val_loss: 0.2056 - val_accuracy: 0.9574\n",
            "Epoch 50/100\n",
            "381/381 [==============================] - 0s 71us/sample - loss: 0.2234 - accuracy: 0.9239 - val_loss: 0.2019 - val_accuracy: 0.9681\n",
            "Epoch 51/100\n",
            "381/381 [==============================] - 0s 78us/sample - loss: 0.2195 - accuracy: 0.9265 - val_loss: 0.1984 - val_accuracy: 0.9681\n",
            "Epoch 52/100\n",
            "381/381 [==============================] - 0s 70us/sample - loss: 0.2159 - accuracy: 0.9318 - val_loss: 0.1950 - val_accuracy: 0.9681\n",
            "Epoch 53/100\n",
            "381/381 [==============================] - 0s 71us/sample - loss: 0.2123 - accuracy: 0.9344 - val_loss: 0.1918 - val_accuracy: 0.9681\n",
            "Epoch 54/100\n",
            "381/381 [==============================] - 0s 66us/sample - loss: 0.2090 - accuracy: 0.9370 - val_loss: 0.1887 - val_accuracy: 0.9681\n",
            "Epoch 55/100\n",
            "381/381 [==============================] - 0s 68us/sample - loss: 0.2058 - accuracy: 0.9370 - val_loss: 0.1857 - val_accuracy: 0.9681\n",
            "Epoch 56/100\n",
            "381/381 [==============================] - 0s 87us/sample - loss: 0.2027 - accuracy: 0.9396 - val_loss: 0.1829 - val_accuracy: 0.9681\n",
            "Epoch 57/100\n",
            "381/381 [==============================] - 0s 74us/sample - loss: 0.1997 - accuracy: 0.9449 - val_loss: 0.1801 - val_accuracy: 0.9681\n",
            "Epoch 58/100\n",
            "381/381 [==============================] - 0s 83us/sample - loss: 0.1968 - accuracy: 0.9449 - val_loss: 0.1775 - val_accuracy: 0.9681\n",
            "Epoch 59/100\n",
            "381/381 [==============================] - 0s 76us/sample - loss: 0.1941 - accuracy: 0.9475 - val_loss: 0.1750 - val_accuracy: 0.9681\n",
            "Epoch 60/100\n",
            "381/381 [==============================] - 0s 79us/sample - loss: 0.1914 - accuracy: 0.9475 - val_loss: 0.1725 - val_accuracy: 0.9628\n",
            "Epoch 61/100\n",
            "381/381 [==============================] - 0s 73us/sample - loss: 0.1889 - accuracy: 0.9475 - val_loss: 0.1702 - val_accuracy: 0.9628\n",
            "Epoch 62/100\n",
            "381/381 [==============================] - 0s 67us/sample - loss: 0.1864 - accuracy: 0.9501 - val_loss: 0.1679 - val_accuracy: 0.9628\n",
            "Epoch 63/100\n",
            "381/381 [==============================] - 0s 85us/sample - loss: 0.1841 - accuracy: 0.9501 - val_loss: 0.1657 - val_accuracy: 0.9681\n",
            "Epoch 64/100\n",
            "381/381 [==============================] - 0s 84us/sample - loss: 0.1817 - accuracy: 0.9501 - val_loss: 0.1636 - val_accuracy: 0.9681\n",
            "Epoch 65/100\n",
            "381/381 [==============================] - 0s 79us/sample - loss: 0.1796 - accuracy: 0.9501 - val_loss: 0.1615 - val_accuracy: 0.9681\n",
            "Epoch 66/100\n",
            "381/381 [==============================] - 0s 92us/sample - loss: 0.1773 - accuracy: 0.9501 - val_loss: 0.1596 - val_accuracy: 0.9681\n",
            "Epoch 67/100\n",
            "381/381 [==============================] - 0s 92us/sample - loss: 0.1752 - accuracy: 0.9501 - val_loss: 0.1578 - val_accuracy: 0.9681\n",
            "Epoch 68/100\n",
            "381/381 [==============================] - 0s 80us/sample - loss: 0.1733 - accuracy: 0.9528 - val_loss: 0.1559 - val_accuracy: 0.9681\n",
            "Epoch 69/100\n",
            "381/381 [==============================] - 0s 102us/sample - loss: 0.1713 - accuracy: 0.9528 - val_loss: 0.1541 - val_accuracy: 0.9734\n",
            "Epoch 70/100\n",
            "381/381 [==============================] - 0s 87us/sample - loss: 0.1694 - accuracy: 0.9580 - val_loss: 0.1524 - val_accuracy: 0.9734\n",
            "Epoch 71/100\n",
            "381/381 [==============================] - 0s 66us/sample - loss: 0.1676 - accuracy: 0.9580 - val_loss: 0.1507 - val_accuracy: 0.9734\n",
            "Epoch 72/100\n",
            "381/381 [==============================] - 0s 68us/sample - loss: 0.1658 - accuracy: 0.9580 - val_loss: 0.1491 - val_accuracy: 0.9734\n",
            "Epoch 73/100\n",
            "381/381 [==============================] - 0s 62us/sample - loss: 0.1641 - accuracy: 0.9580 - val_loss: 0.1475 - val_accuracy: 0.9734\n",
            "Epoch 74/100\n",
            "381/381 [==============================] - 0s 83us/sample - loss: 0.1624 - accuracy: 0.9580 - val_loss: 0.1461 - val_accuracy: 0.9734\n",
            "Epoch 75/100\n",
            "381/381 [==============================] - 0s 71us/sample - loss: 0.1608 - accuracy: 0.9580 - val_loss: 0.1446 - val_accuracy: 0.9734\n",
            "Epoch 76/100\n",
            "381/381 [==============================] - 0s 72us/sample - loss: 0.1592 - accuracy: 0.9580 - val_loss: 0.1432 - val_accuracy: 0.9734\n",
            "Epoch 77/100\n",
            "381/381 [==============================] - 0s 74us/sample - loss: 0.1577 - accuracy: 0.9580 - val_loss: 0.1417 - val_accuracy: 0.9734\n",
            "Epoch 78/100\n",
            "381/381 [==============================] - 0s 68us/sample - loss: 0.1561 - accuracy: 0.9606 - val_loss: 0.1404 - val_accuracy: 0.9734\n",
            "Epoch 79/100\n",
            "381/381 [==============================] - 0s 75us/sample - loss: 0.1547 - accuracy: 0.9659 - val_loss: 0.1391 - val_accuracy: 0.9734\n",
            "Epoch 80/100\n",
            "381/381 [==============================] - 0s 69us/sample - loss: 0.1533 - accuracy: 0.9659 - val_loss: 0.1378 - val_accuracy: 0.9734\n",
            "Epoch 81/100\n",
            "381/381 [==============================] - 0s 73us/sample - loss: 0.1519 - accuracy: 0.9659 - val_loss: 0.1366 - val_accuracy: 0.9734\n",
            "Epoch 82/100\n",
            "381/381 [==============================] - 0s 68us/sample - loss: 0.1506 - accuracy: 0.9659 - val_loss: 0.1353 - val_accuracy: 0.9734\n",
            "Epoch 83/100\n",
            "381/381 [==============================] - 0s 81us/sample - loss: 0.1492 - accuracy: 0.9659 - val_loss: 0.1342 - val_accuracy: 0.9734\n",
            "Epoch 84/100\n",
            "381/381 [==============================] - 0s 81us/sample - loss: 0.1479 - accuracy: 0.9659 - val_loss: 0.1331 - val_accuracy: 0.9734\n",
            "Epoch 85/100\n",
            "381/381 [==============================] - 0s 81us/sample - loss: 0.1467 - accuracy: 0.9659 - val_loss: 0.1320 - val_accuracy: 0.9734\n",
            "Epoch 86/100\n",
            "381/381 [==============================] - 0s 73us/sample - loss: 0.1455 - accuracy: 0.9659 - val_loss: 0.1309 - val_accuracy: 0.9734\n",
            "Epoch 87/100\n",
            "381/381 [==============================] - 0s 79us/sample - loss: 0.1443 - accuracy: 0.9659 - val_loss: 0.1298 - val_accuracy: 0.9734\n",
            "Epoch 88/100\n",
            "381/381 [==============================] - 0s 82us/sample - loss: 0.1431 - accuracy: 0.9659 - val_loss: 0.1288 - val_accuracy: 0.9734\n",
            "Epoch 89/100\n",
            "381/381 [==============================] - 0s 74us/sample - loss: 0.1420 - accuracy: 0.9659 - val_loss: 0.1278 - val_accuracy: 0.9734\n",
            "Epoch 90/100\n",
            "381/381 [==============================] - 0s 76us/sample - loss: 0.1409 - accuracy: 0.9659 - val_loss: 0.1268 - val_accuracy: 0.9734\n",
            "Epoch 91/100\n",
            "381/381 [==============================] - 0s 81us/sample - loss: 0.1398 - accuracy: 0.9659 - val_loss: 0.1259 - val_accuracy: 0.9734\n",
            "Epoch 92/100\n",
            "381/381 [==============================] - 0s 83us/sample - loss: 0.1387 - accuracy: 0.9659 - val_loss: 0.1249 - val_accuracy: 0.9734\n",
            "Epoch 93/100\n",
            "381/381 [==============================] - 0s 88us/sample - loss: 0.1377 - accuracy: 0.9659 - val_loss: 0.1240 - val_accuracy: 0.9734\n",
            "Epoch 94/100\n",
            "381/381 [==============================] - 0s 69us/sample - loss: 0.1367 - accuracy: 0.9659 - val_loss: 0.1232 - val_accuracy: 0.9734\n",
            "Epoch 95/100\n",
            "381/381 [==============================] - 0s 68us/sample - loss: 0.1357 - accuracy: 0.9659 - val_loss: 0.1223 - val_accuracy: 0.9734\n",
            "Epoch 96/100\n",
            "381/381 [==============================] - 0s 69us/sample - loss: 0.1347 - accuracy: 0.9685 - val_loss: 0.1215 - val_accuracy: 0.9734\n",
            "Epoch 97/100\n",
            "381/381 [==============================] - 0s 77us/sample - loss: 0.1338 - accuracy: 0.9685 - val_loss: 0.1207 - val_accuracy: 0.9734\n",
            "Epoch 98/100\n",
            "381/381 [==============================] - 0s 69us/sample - loss: 0.1328 - accuracy: 0.9685 - val_loss: 0.1198 - val_accuracy: 0.9734\n",
            "Epoch 99/100\n",
            "381/381 [==============================] - 0s 97us/sample - loss: 0.1319 - accuracy: 0.9685 - val_loss: 0.1190 - val_accuracy: 0.9734\n",
            "Epoch 100/100\n",
            "381/381 [==============================] - 0s 84us/sample - loss: 0.1311 - accuracy: 0.9711 - val_loss: 0.1182 - val_accuracy: 0.9734\n"
          ],
          "name": "stdout"
        }
      ]
    },
    {
      "cell_type": "code",
      "metadata": {
        "colab": {
          "base_uri": "https://localhost:8080/"
        },
        "id": "xTAr9b7kPQ4Q",
        "outputId": "207e2799-1f3e-46af-e176-b66c22f4d1fa"
      },
      "source": [
        "print(model.evaluate(x_test,y_test))\n",
        "print(model.evaluate(x_train,y_train))"
      ],
      "execution_count": 38,
      "outputs": [
        {
          "output_type": "stream",
          "text": [
            "188/188 [==============================] - 0s 89us/sample - loss: 0.1182 - accuracy: 0.9734\n",
            "[0.1182401492557627, 0.9734042]\n",
            "381/381 [==============================] - 0s 37us/sample - loss: 0.1305 - accuracy: 0.9711\n",
            "[0.13050417113178983, 0.9711286]\n"
          ],
          "name": "stdout"
        }
      ]
    },
    {
      "cell_type": "code",
      "metadata": {
        "colab": {
          "base_uri": "https://localhost:8080/",
          "height": 285
        },
        "id": "TFNpXNcZQALd",
        "outputId": "f5088eb7-d29c-45bd-9f1a-c7e1de22ce1d"
      },
      "source": [
        "import matplotlib.pyplot as plt\n",
        "plt.plot(r.history['loss'],label='loss')\n",
        "plt.plot(r.history['val_loss'],label='val_loss')\n",
        "plt.legend()"
      ],
      "execution_count": 43,
      "outputs": [
        {
          "output_type": "execute_result",
          "data": {
            "text/plain": [
              "<matplotlib.legend.Legend at 0x7fb9244265f8>"
            ]
          },
          "metadata": {
            "tags": []
          },
          "execution_count": 43
        },
        {
          "output_type": "display_data",
          "data": {
            "image/png": "[encoded data removed]",
            "text/plain": [
              "<Figure size 432x288 with 1 Axes>"
            ]
          },
          "metadata": {
            "tags": [],
            "needs_background": "light"
          }
        }
      ]
    },
    {
      "cell_type": "code",
      "metadata": {
        "colab": {
          "base_uri": "https://localhost:8080/",
          "height": 282
        },
        "id": "4sr-IaCnQpEs",
        "outputId": "2b2604a1-47ca-4a88-8af7-a2d20cbb0763"
      },
      "source": [
        "plt.plot(r.history['accuracy'],label='accuracy')\n",
        "plt.plot(r.history['val_accuracy'],label='val_accuracy')\n",
        "plt.legend()"
      ],
      "execution_count": 47,
      "outputs": [
        {
          "output_type": "execute_result",
          "data": {
            "text/plain": [
              "<matplotlib.legend.Legend at 0x7fb9242fb780>"
            ]
          },
          "metadata": {
            "tags": []
          },
          "execution_count": 47
        },
        {
          "output_type": "display_data",
          "data": {
            "image/png": "[encoded data removed]",
            "text/plain": [
              "<Figure size 432x288 with 1 Axes>"
            ]
          },
          "metadata": {
            "tags": [],
            "needs_background": "light"
          }
        }
      ]
    }
  ]
}