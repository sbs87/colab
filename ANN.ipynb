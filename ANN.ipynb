{
  "nbformat": 4,
  "nbformat_minor": 0,
  "metadata": {
    "colab": {
      "name": "ANN.ipynb",
      "provenance": [],
      "authorship_tag": "ABX9TyPPh8Z8n9b3Og0AZqDufIjz",
      "include_colab_link": true
    },
    "kernelspec": {
      "name": "python3",
      "display_name": "Python 3"
    }
  },
  "cells": [
    {
      "cell_type": "markdown",
      "metadata": {
        "id": "view-in-github",
        "colab_type": "text"
      },
      "source": [
        "<a href=\"https://colab.research.google.com/github/sbs87/colab/blob/master/ANN.ipynb\" target=\"_parent\"><img src=\"https://colab.research.google.com/assets/colab-badge.svg\" alt=\"Open In Colab\"/></a>"
      ]
    },
    {
      "cell_type": "code",
      "metadata": {
        "colab": {
          "base_uri": "https://localhost:8080/"
        },
        "id": "-DEhINeT84Xv",
        "outputId": "1c34669b-91f5-4e57-bd7b-ea397423a589"
      },
      "source": [
        "!pip install -q tensorflow-gpu==2.0.0-beta1"
      ],
      "execution_count": 4,
      "outputs": [
        {
          "output_type": "stream",
          "text": [
            "\u001b[K     |████████████████████████████████| 348.9MB 42kB/s \n",
            "\u001b[?25h"
          ],
          "name": "stdout"
        }
      ]
    },
    {
      "cell_type": "code",
      "metadata": {
        "colab": {
          "base_uri": "https://localhost:8080/"
        },
        "id": "FnnLq2uP9F0D",
        "outputId": "4df0f95f-7ba2-40ed-9160-eed24efb8f6e"
      },
      "source": [
        "import tensorflow as tf\n",
        "print(tf.__version__)"
      ],
      "execution_count": 3,
      "outputs": [
        {
          "output_type": "stream",
          "text": [
            "2.0.0-beta0\n"
          ],
          "name": "stdout"
        }
      ]
    },
    {
      "cell_type": "code",
      "metadata": {
        "colab": {
          "base_uri": "https://localhost:8080/"
        },
        "id": "dikqy3SI9Slj",
        "outputId": "5be5aebf-0f5d-43a6-d717-4f7976891dee"
      },
      "source": [
        "mnist=tf.keras.datasets.mnist\n",
        "(x_train,y_train),(x_test,y_test)=mnist.load_data()\n",
        "print(x_train.shape)\n",
        "#print(x_train[0:3,0:3,0:3])\n",
        "#print(y_train[0:3])\n",
        "import matplotlib.pyplot as plt\n",
        "#print(x_train[1][:][:])\n",
        "#plt.scatter(x_train[1][:][:],x_train[1][:][:])\n",
        "\n",
        "x_test,x_train = x_test/255.0,x_train/255.0"
      ],
      "execution_count": 36,
      "outputs": [
        {
          "output_type": "stream",
          "text": [
            "(60000, 28, 28)\n"
          ],
          "name": "stdout"
        }
      ]
    },
    {
      "cell_type": "code",
      "metadata": {
        "id": "Lw_LvrFoFL-t"
      },
      "source": [
        "model=tf.keras.models.Sequential([tf.keras.layers.Flatten(input_shape=(28,28)),\n",
        "                           tf.keras.layers.Dense(128,activation=\"relu\"),\n",
        "                           tf.keras.layers.Dropout(0,2),\n",
        "                           tf.keras.layers.Dense(10,activation=\"softmax\")])\n"
      ],
      "execution_count": 41,
      "outputs": []
    },
    {
      "cell_type": "code",
      "metadata": {
        "id": "6rB9JAm1GZIU"
      },
      "source": [
        "model.compile(optimizer='adam',metrics=['accuracy'],loss='sparse_categorical_crossentropy')\n"
      ],
      "execution_count": 43,
      "outputs": []
    },
    {
      "cell_type": "code",
      "metadata": {
        "colab": {
          "base_uri": "https://localhost:8080/"
        },
        "id": "IaRZ9raZGx1Y",
        "outputId": "33dd6f59-e78b-43fa-e293-4bf68b2f83a5"
      },
      "source": [
        "r=model.fit(x_train,y_train,validation_data=(x_test,y_test),epochs=10)"
      ],
      "execution_count": 46,
      "outputs": [
        {
          "output_type": "stream",
          "text": [
            "WARNING:tensorflow:From /usr/local/lib/python3.6/dist-packages/tensorflow/python/ops/math_grad.py:1250: add_dispatch_support.<locals>.wrapper (from tensorflow.python.ops.array_ops) is deprecated and will be removed in a future version.\n",
            "Instructions for updating:\n",
            "Use tf.where in 2.0, which has the same broadcast rule as np.where\n",
            "Train on 60000 samples, validate on 10000 samples\n",
            "Epoch 1/10\n",
            "60000/60000 [==============================] - 7s 119us/sample - loss: 0.2571 - accuracy: 0.9269 - val_loss: 0.1366 - val_accuracy: 0.9580\n",
            "Epoch 2/10\n",
            "60000/60000 [==============================] - 6s 99us/sample - loss: 0.1138 - accuracy: 0.9658 - val_loss: 0.1046 - val_accuracy: 0.9666\n",
            "Epoch 3/10\n",
            "60000/60000 [==============================] - 6s 98us/sample - loss: 0.0777 - accuracy: 0.9764 - val_loss: 0.0986 - val_accuracy: 0.9710\n",
            "Epoch 4/10\n",
            "60000/60000 [==============================] - 6s 100us/sample - loss: 0.0578 - accuracy: 0.9821 - val_loss: 0.0906 - val_accuracy: 0.9732\n",
            "Epoch 5/10\n",
            "60000/60000 [==============================] - 6s 99us/sample - loss: 0.0439 - accuracy: 0.9866 - val_loss: 0.0752 - val_accuracy: 0.9768\n",
            "Epoch 6/10\n",
            "60000/60000 [==============================] - 6s 98us/sample - loss: 0.0346 - accuracy: 0.9893 - val_loss: 0.0735 - val_accuracy: 0.9774\n",
            "Epoch 7/10\n",
            "60000/60000 [==============================] - 6s 101us/sample - loss: 0.0289 - accuracy: 0.9911 - val_loss: 0.0834 - val_accuracy: 0.9762\n",
            "Epoch 8/10\n",
            "60000/60000 [==============================] - 6s 103us/sample - loss: 0.0228 - accuracy: 0.9929 - val_loss: 0.0771 - val_accuracy: 0.9785\n",
            "Epoch 9/10\n",
            "60000/60000 [==============================] - 6s 100us/sample - loss: 0.0195 - accuracy: 0.9939 - val_loss: 0.0803 - val_accuracy: 0.9776\n",
            "Epoch 10/10\n",
            "60000/60000 [==============================] - 6s 101us/sample - loss: 0.0164 - accuracy: 0.9949 - val_loss: 0.0795 - val_accuracy: 0.9787\n"
          ],
          "name": "stdout"
        }
      ]
    },
    {
      "cell_type": "code",
      "metadata": {
        "colab": {
          "base_uri": "https://localhost:8080/",
          "height": 282
        },
        "id": "hElQC59hIC3g",
        "outputId": "eeddda92-0696-4a77-9cde-ff1b1b484f2e"
      },
      "source": [
        "plt.plot(r.history['loss'],label='loss')\n",
        "plt.plot(r.history['val_loss'],label='val_loss')\n",
        "plt.legend()"
      ],
      "execution_count": 54,
      "outputs": [
        {
          "output_type": "execute_result",
          "data": {
            "text/plain": [
              "<matplotlib.legend.Legend at 0x7f3333b20e10>"
            ]
          },
          "metadata": {
            "tags": []
          },
          "execution_count": 54
        },
        {
          "output_type": "display_data",
          "data": {
            "image/png": "[encoded data removed]",
            "text/plain": [
              "<Figure size 432x288 with 1 Axes>"
            ]
          },
          "metadata": {
            "tags": [],
            "needs_background": "light"
          }
        }
      ]
    },
    {
      "cell_type": "code",
      "metadata": {
        "colab": {
          "base_uri": "https://localhost:8080/",
          "height": 282
        },
        "id": "UsxOt3HCH06S",
        "outputId": "2f49bbe9-249b-4599-9abd-993c180c26f8"
      },
      "source": [
        "plt.plot(r.history['accuracy'],label='accuracy')\n",
        "plt.plot(r.history['val_accuracy'],label='vall_accuracy')\n",
        "plt.legend()"
      ],
      "execution_count": 56,
      "outputs": [
        {
          "output_type": "execute_result",
          "data": {
            "text/plain": [
              "<matplotlib.legend.Legend at 0x7f3333c4e978>"
            ]
          },
          "metadata": {
            "tags": []
          },
          "execution_count": 56
        },
        {
          "output_type": "display_data",
          "data": {
            "image/png": "[encoded data removed]",
            "text/plain": [
              "<Figure size 432x288 with 1 Axes>"
            ]
          },
          "metadata": {
            "tags": [],
            "needs_background": "light"
          }
        }
      ]
    },
    {
      "cell_type": "code",
      "metadata": {
        "colab": {
          "base_uri": "https://localhost:8080/"
        },
        "id": "YEwm3aOKJFqD",
        "outputId": "9784347b-456a-458b-e0d0-f66e08d64d23"
      },
      "source": [
        "print(model.evaluate(x_test,y_test))"
      ],
      "execution_count": 57,
      "outputs": [
        {
          "output_type": "stream",
          "text": [
            "10000/10000 [==============================] - 0s 40us/sample - loss: 0.0795 - accuracy: 0.9787\n",
            "[0.07951463977567037, 0.9787]\n"
          ],
          "name": "stdout"
        }
      ]
    },
    {
      "cell_type": "markdown",
      "metadata": {
        "id": "i_8NuCwqJV6m"
      },
      "source": [
        "Come back for confuson matrix"
      ]
    }
  ]
}